{
 "cells": [
  {
   "cell_type": "code",
   "execution_count": 1,
   "id": "fc4deb5f",
   "metadata": {},
   "outputs": [],
   "source": [
    "import os\n",
    "import csv\n",
    "import pandas as pd\n"
   ]
  },
  {
   "cell_type": "code",
   "execution_count": 2,
   "id": "5c58b805",
   "metadata": {},
   "outputs": [],
   "source": [
    "filepath = \"Resources/train.csv\"\n",
    "data = pd.read_csv(filepath, encoding = \"utf-8\")\n",
    "df = pd.DataFrame(data)"
   ]
  },
  {
   "cell_type": "code",
   "execution_count": 3,
   "id": "c9a0bf94",
   "metadata": {},
   "outputs": [
    {
     "data": {
      "text/html": [
       "<div>\n",
       "<style scoped>\n",
       "    .dataframe tbody tr th:only-of-type {\n",
       "        vertical-align: middle;\n",
       "    }\n",
       "\n",
       "    .dataframe tbody tr th {\n",
       "        vertical-align: top;\n",
       "    }\n",
       "\n",
       "    .dataframe thead th {\n",
       "        text-align: right;\n",
       "    }\n",
       "</style>\n",
       "<table border=\"1\" class=\"dataframe\">\n",
       "  <thead>\n",
       "    <tr style=\"text-align: right;\">\n",
       "      <th></th>\n",
       "      <th>ID</th>\n",
       "      <th>City_Code</th>\n",
       "      <th>Region_Code</th>\n",
       "      <th>Accomodation_Type</th>\n",
       "      <th>Reco_Insurance_Type</th>\n",
       "      <th>Upper_Age</th>\n",
       "      <th>Lower_Age</th>\n",
       "      <th>Is_Spouse</th>\n",
       "      <th>Health Indicator</th>\n",
       "      <th>Holding_Policy_Duration</th>\n",
       "      <th>Holding_Policy_Type</th>\n",
       "      <th>Reco_Policy_Cat</th>\n",
       "      <th>Reco_Policy_Premium</th>\n",
       "      <th>Response</th>\n",
       "    </tr>\n",
       "  </thead>\n",
       "  <tbody>\n",
       "    <tr>\n",
       "      <th>0</th>\n",
       "      <td>1</td>\n",
       "      <td>C3</td>\n",
       "      <td>3213</td>\n",
       "      <td>Rented</td>\n",
       "      <td>Individual</td>\n",
       "      <td>36</td>\n",
       "      <td>36</td>\n",
       "      <td>No</td>\n",
       "      <td>X1</td>\n",
       "      <td>14+</td>\n",
       "      <td>3.0</td>\n",
       "      <td>22</td>\n",
       "      <td>11628.0</td>\n",
       "      <td>0</td>\n",
       "    </tr>\n",
       "    <tr>\n",
       "      <th>1</th>\n",
       "      <td>2</td>\n",
       "      <td>C5</td>\n",
       "      <td>1117</td>\n",
       "      <td>Owned</td>\n",
       "      <td>Joint</td>\n",
       "      <td>75</td>\n",
       "      <td>22</td>\n",
       "      <td>No</td>\n",
       "      <td>X2</td>\n",
       "      <td>NaN</td>\n",
       "      <td>NaN</td>\n",
       "      <td>22</td>\n",
       "      <td>30510.0</td>\n",
       "      <td>0</td>\n",
       "    </tr>\n",
       "    <tr>\n",
       "      <th>2</th>\n",
       "      <td>3</td>\n",
       "      <td>C5</td>\n",
       "      <td>3732</td>\n",
       "      <td>Owned</td>\n",
       "      <td>Individual</td>\n",
       "      <td>32</td>\n",
       "      <td>32</td>\n",
       "      <td>No</td>\n",
       "      <td>NaN</td>\n",
       "      <td>1.0</td>\n",
       "      <td>1.0</td>\n",
       "      <td>19</td>\n",
       "      <td>7450.0</td>\n",
       "      <td>1</td>\n",
       "    </tr>\n",
       "    <tr>\n",
       "      <th>3</th>\n",
       "      <td>4</td>\n",
       "      <td>C24</td>\n",
       "      <td>4378</td>\n",
       "      <td>Owned</td>\n",
       "      <td>Joint</td>\n",
       "      <td>52</td>\n",
       "      <td>48</td>\n",
       "      <td>No</td>\n",
       "      <td>X1</td>\n",
       "      <td>14+</td>\n",
       "      <td>3.0</td>\n",
       "      <td>19</td>\n",
       "      <td>17780.0</td>\n",
       "      <td>0</td>\n",
       "    </tr>\n",
       "    <tr>\n",
       "      <th>4</th>\n",
       "      <td>5</td>\n",
       "      <td>C8</td>\n",
       "      <td>2190</td>\n",
       "      <td>Rented</td>\n",
       "      <td>Individual</td>\n",
       "      <td>44</td>\n",
       "      <td>44</td>\n",
       "      <td>No</td>\n",
       "      <td>X2</td>\n",
       "      <td>3.0</td>\n",
       "      <td>1.0</td>\n",
       "      <td>16</td>\n",
       "      <td>10404.0</td>\n",
       "      <td>0</td>\n",
       "    </tr>\n",
       "  </tbody>\n",
       "</table>\n",
       "</div>"
      ],
      "text/plain": [
       "   ID City_Code  Region_Code Accomodation_Type Reco_Insurance_Type  Upper_Age  \\\n",
       "0   1        C3         3213            Rented          Individual         36   \n",
       "1   2        C5         1117             Owned               Joint         75   \n",
       "2   3        C5         3732             Owned          Individual         32   \n",
       "3   4       C24         4378             Owned               Joint         52   \n",
       "4   5        C8         2190            Rented          Individual         44   \n",
       "\n",
       "   Lower_Age Is_Spouse Health Indicator Holding_Policy_Duration  \\\n",
       "0         36        No               X1                     14+   \n",
       "1         22        No               X2                     NaN   \n",
       "2         32        No              NaN                     1.0   \n",
       "3         48        No               X1                     14+   \n",
       "4         44        No               X2                     3.0   \n",
       "\n",
       "   Holding_Policy_Type  Reco_Policy_Cat  Reco_Policy_Premium  Response  \n",
       "0                  3.0               22              11628.0         0  \n",
       "1                  NaN               22              30510.0         0  \n",
       "2                  1.0               19               7450.0         1  \n",
       "3                  3.0               19              17780.0         0  \n",
       "4                  1.0               16              10404.0         0  "
      ]
     },
     "execution_count": 3,
     "metadata": {},
     "output_type": "execute_result"
    }
   ],
   "source": [
    "df.head()"
   ]
  },
  {
   "cell_type": "code",
   "execution_count": 4,
   "id": "70cece47",
   "metadata": {},
   "outputs": [
    {
     "data": {
      "text/plain": [
       "C1     8973\n",
       "C2     7747\n",
       "C3     4889\n",
       "C4     3671\n",
       "C9     2185\n",
       "C6     1950\n",
       "C7     1910\n",
       "C8     1806\n",
       "C10    1611\n",
       "C5     1364\n",
       "C15    1186\n",
       "C17    1159\n",
       "C11    1147\n",
       "C16    1135\n",
       "C13    1005\n",
       "C20     926\n",
       "C19     899\n",
       "C12     868\n",
       "C18     797\n",
       "C14     746\n",
       "C21     679\n",
       "C23     587\n",
       "C24     553\n",
       "C22     516\n",
       "C26     499\n",
       "C29     387\n",
       "C25     366\n",
       "C27     295\n",
       "C33     286\n",
       "C28     285\n",
       "C32     160\n",
       "C34     130\n",
       "C30      58\n",
       "C35      56\n",
       "C36      36\n",
       "C31      15\n",
       "Name: City_Code, dtype: int64"
      ]
     },
     "execution_count": 4,
     "metadata": {},
     "output_type": "execute_result"
    }
   ],
   "source": [
    "df[\"City_Code\"].value_counts()"
   ]
  },
  {
   "cell_type": "code",
   "execution_count": 5,
   "id": "3154d87d",
   "metadata": {},
   "outputs": [],
   "source": [
    "city1 = df.loc[df[\"City_Code\"] == \"C1\"]\n",
    "city1 = city1.fillna(0)\n",
    "city1.drop(['City_Code', 'Region_Code', 'ID'], axis=1, inplace=True)"
   ]
  },
  {
   "cell_type": "code",
   "execution_count": 6,
   "id": "a571467e",
   "metadata": {},
   "outputs": [
    {
     "data": {
      "text/html": [
       "<div>\n",
       "<style scoped>\n",
       "    .dataframe tbody tr th:only-of-type {\n",
       "        vertical-align: middle;\n",
       "    }\n",
       "\n",
       "    .dataframe tbody tr th {\n",
       "        vertical-align: top;\n",
       "    }\n",
       "\n",
       "    .dataframe thead th {\n",
       "        text-align: right;\n",
       "    }\n",
       "</style>\n",
       "<table border=\"1\" class=\"dataframe\">\n",
       "  <thead>\n",
       "    <tr style=\"text-align: right;\">\n",
       "      <th></th>\n",
       "      <th>Accomodation_Type</th>\n",
       "      <th>Reco_Insurance_Type</th>\n",
       "      <th>Upper_Age</th>\n",
       "      <th>Lower_Age</th>\n",
       "      <th>Is_Spouse</th>\n",
       "      <th>Health Indicator</th>\n",
       "      <th>Holding_Policy_Duration</th>\n",
       "      <th>Holding_Policy_Type</th>\n",
       "      <th>Reco_Policy_Cat</th>\n",
       "      <th>Reco_Policy_Premium</th>\n",
       "      <th>Response</th>\n",
       "    </tr>\n",
       "  </thead>\n",
       "  <tbody>\n",
       "    <tr>\n",
       "      <th>7</th>\n",
       "      <td>Owned</td>\n",
       "      <td>Joint</td>\n",
       "      <td>75</td>\n",
       "      <td>73</td>\n",
       "      <td>Yes</td>\n",
       "      <td>X4</td>\n",
       "      <td>9.0</td>\n",
       "      <td>4.0</td>\n",
       "      <td>17</td>\n",
       "      <td>29344.0</td>\n",
       "      <td>1</td>\n",
       "    </tr>\n",
       "    <tr>\n",
       "      <th>9</th>\n",
       "      <td>Owned</td>\n",
       "      <td>Joint</td>\n",
       "      <td>59</td>\n",
       "      <td>26</td>\n",
       "      <td>Yes</td>\n",
       "      <td>0</td>\n",
       "      <td>7.0</td>\n",
       "      <td>4.0</td>\n",
       "      <td>18</td>\n",
       "      <td>21100.8</td>\n",
       "      <td>1</td>\n",
       "    </tr>\n",
       "    <tr>\n",
       "      <th>18</th>\n",
       "      <td>Owned</td>\n",
       "      <td>Individual</td>\n",
       "      <td>55</td>\n",
       "      <td>55</td>\n",
       "      <td>No</td>\n",
       "      <td>X2</td>\n",
       "      <td>1.0</td>\n",
       "      <td>3.0</td>\n",
       "      <td>21</td>\n",
       "      <td>12580.0</td>\n",
       "      <td>0</td>\n",
       "    </tr>\n",
       "    <tr>\n",
       "      <th>23</th>\n",
       "      <td>Rented</td>\n",
       "      <td>Individual</td>\n",
       "      <td>22</td>\n",
       "      <td>22</td>\n",
       "      <td>No</td>\n",
       "      <td>X6</td>\n",
       "      <td>0</td>\n",
       "      <td>0.0</td>\n",
       "      <td>19</td>\n",
       "      <td>5416.0</td>\n",
       "      <td>0</td>\n",
       "    </tr>\n",
       "    <tr>\n",
       "      <th>28</th>\n",
       "      <td>Rented</td>\n",
       "      <td>Individual</td>\n",
       "      <td>24</td>\n",
       "      <td>24</td>\n",
       "      <td>No</td>\n",
       "      <td>X5</td>\n",
       "      <td>0</td>\n",
       "      <td>0.0</td>\n",
       "      <td>19</td>\n",
       "      <td>7800.0</td>\n",
       "      <td>0</td>\n",
       "    </tr>\n",
       "  </tbody>\n",
       "</table>\n",
       "</div>"
      ],
      "text/plain": [
       "   Accomodation_Type Reco_Insurance_Type  Upper_Age  Lower_Age Is_Spouse  \\\n",
       "7              Owned               Joint         75         73       Yes   \n",
       "9              Owned               Joint         59         26       Yes   \n",
       "18             Owned          Individual         55         55        No   \n",
       "23            Rented          Individual         22         22        No   \n",
       "28            Rented          Individual         24         24        No   \n",
       "\n",
       "   Health Indicator Holding_Policy_Duration  Holding_Policy_Type  \\\n",
       "7                X4                     9.0                  4.0   \n",
       "9                 0                     7.0                  4.0   \n",
       "18               X2                     1.0                  3.0   \n",
       "23               X6                       0                  0.0   \n",
       "28               X5                       0                  0.0   \n",
       "\n",
       "    Reco_Policy_Cat  Reco_Policy_Premium  Response  \n",
       "7                17              29344.0         1  \n",
       "9                18              21100.8         1  \n",
       "18               21              12580.0         0  \n",
       "23               19               5416.0         0  \n",
       "28               19               7800.0         0  "
      ]
     },
     "execution_count": 6,
     "metadata": {},
     "output_type": "execute_result"
    }
   ],
   "source": [
    "city1.head()"
   ]
  },
  {
   "cell_type": "code",
   "execution_count": 17,
   "id": "a2dfe954",
   "metadata": {},
   "outputs": [
    {
     "data": {
      "text/plain": [
       "X1    2235\n",
       "0     2100\n",
       "X2    1792\n",
       "X3    1092\n",
       "X4    1077\n",
       "X5     433\n",
       "X6     163\n",
       "X7      68\n",
       "X8      11\n",
       "X9       2\n",
       "Name: Health Indicator, dtype: int64"
      ]
     },
     "execution_count": 17,
     "metadata": {},
     "output_type": "execute_result"
    }
   ],
   "source": [
    "city1[\"Health Indicator\"].value_counts()"
   ]
  },
  {
   "cell_type": "code",
   "execution_count": 18,
   "id": "7a943f4e",
   "metadata": {},
   "outputs": [],
   "source": [
    "city1[\"Health Indicator\"] = city1[\"Health Indicator\"].replace({'X1':'1', 'X2':'2', 'X3':'3', 'X4':'4', 'X5':'5', 'X6':'6','X7':'7', 'X8': '8', 'X9': '9'})"
   ]
  },
  {
   "cell_type": "code",
   "execution_count": 19,
   "id": "3f702a32",
   "metadata": {},
   "outputs": [
    {
     "data": {
      "text/plain": [
       "1    2235\n",
       "0    2100\n",
       "2    1792\n",
       "3    1092\n",
       "4    1077\n",
       "5     433\n",
       "6     163\n",
       "7      68\n",
       "8      11\n",
       "9       2\n",
       "Name: Health Indicator, dtype: int64"
      ]
     },
     "execution_count": 19,
     "metadata": {},
     "output_type": "execute_result"
    }
   ],
   "source": [
    "city1[\"Health Indicator\"].value_counts()"
   ]
  },
  {
   "cell_type": "code",
   "execution_count": 29,
   "id": "f6b67428",
   "metadata": {},
   "outputs": [],
   "source": [
    "city1.to_csv(\"Resources/visual.csv\", index=False)"
   ]
  },
  {
   "cell_type": "code",
   "execution_count": 20,
   "id": "a6753b4c",
   "metadata": {},
   "outputs": [
    {
     "data": {
      "text/plain": [
       "Individual    6658\n",
       "Joint         2315\n",
       "Name: Reco_Insurance_Type, dtype: int64"
      ]
     },
     "execution_count": 20,
     "metadata": {},
     "output_type": "execute_result"
    }
   ],
   "source": [
    "city1[\"Reco_Insurance_Type\"].value_counts()"
   ]
  },
  {
   "cell_type": "code",
   "execution_count": 21,
   "id": "1de3afdd",
   "metadata": {},
   "outputs": [
    {
     "data": {
      "text/plain": [
       "Owned     6037\n",
       "Rented    2936\n",
       "Name: Accomodation_Type, dtype: int64"
      ]
     },
     "execution_count": 21,
     "metadata": {},
     "output_type": "execute_result"
    }
   ],
   "source": [
    "city1[\"Accomodation_Type\"].value_counts()"
   ]
  },
  {
   "cell_type": "code",
   "execution_count": 22,
   "id": "76d3f020",
   "metadata": {},
   "outputs": [
    {
     "data": {
      "text/plain": [
       "0.0    3230\n",
       "3.0    2415\n",
       "1.0    1592\n",
       "4.0    1007\n",
       "2.0     729\n",
       "Name: Holding_Policy_Type, dtype: int64"
      ]
     },
     "execution_count": 22,
     "metadata": {},
     "output_type": "execute_result"
    }
   ],
   "source": [
    "city1[\"Holding_Policy_Type\"].value_counts()"
   ]
  },
  {
   "cell_type": "code",
   "execution_count": 23,
   "id": "68767532",
   "metadata": {},
   "outputs": [
    {
     "data": {
      "text/plain": [
       "16    1362\n",
       "19    1308\n",
       "22    1091\n",
       "18     989\n",
       "17     776\n",
       "21     640\n",
       "5      599\n",
       "20     560\n",
       "7      428\n",
       "12     334\n",
       "13     307\n",
       "8      265\n",
       "14     125\n",
       "15      85\n",
       "2       55\n",
       "1       25\n",
       "9       12\n",
       "10       6\n",
       "6        6\n",
       "Name: Reco_Policy_Cat, dtype: int64"
      ]
     },
     "execution_count": 23,
     "metadata": {},
     "output_type": "execute_result"
    }
   ],
   "source": [
    "city1[\"Reco_Policy_Cat\"].value_counts()"
   ]
  },
  {
   "cell_type": "code",
   "execution_count": 24,
   "id": "4f050275",
   "metadata": {},
   "outputs": [
    {
     "data": {
      "text/plain": [
       "0    6765\n",
       "1    2208\n",
       "Name: Response, dtype: int64"
      ]
     },
     "execution_count": 24,
     "metadata": {},
     "output_type": "execute_result"
    }
   ],
   "source": [
    "city1[\"Response\"].value_counts()"
   ]
  },
  {
   "cell_type": "code",
   "execution_count": 25,
   "id": "6d25eee9",
   "metadata": {},
   "outputs": [],
   "source": [
    "city_df = pd.get_dummies(city1)"
   ]
  },
  {
   "cell_type": "code",
   "execution_count": 26,
   "id": "a16a01df",
   "metadata": {},
   "outputs": [
    {
     "data": {
      "text/html": [
       "<div>\n",
       "<style scoped>\n",
       "    .dataframe tbody tr th:only-of-type {\n",
       "        vertical-align: middle;\n",
       "    }\n",
       "\n",
       "    .dataframe tbody tr th {\n",
       "        vertical-align: top;\n",
       "    }\n",
       "\n",
       "    .dataframe thead th {\n",
       "        text-align: right;\n",
       "    }\n",
       "</style>\n",
       "<table border=\"1\" class=\"dataframe\">\n",
       "  <thead>\n",
       "    <tr style=\"text-align: right;\">\n",
       "      <th></th>\n",
       "      <th>Upper_Age</th>\n",
       "      <th>Lower_Age</th>\n",
       "      <th>Holding_Policy_Type</th>\n",
       "      <th>Reco_Policy_Cat</th>\n",
       "      <th>Reco_Policy_Premium</th>\n",
       "      <th>Response</th>\n",
       "      <th>Accomodation_Type_Owned</th>\n",
       "      <th>Accomodation_Type_Rented</th>\n",
       "      <th>Reco_Insurance_Type_Individual</th>\n",
       "      <th>Reco_Insurance_Type_Joint</th>\n",
       "      <th>...</th>\n",
       "      <th>Holding_Policy_Duration_14+</th>\n",
       "      <th>Holding_Policy_Duration_14.0</th>\n",
       "      <th>Holding_Policy_Duration_2.0</th>\n",
       "      <th>Holding_Policy_Duration_3.0</th>\n",
       "      <th>Holding_Policy_Duration_4.0</th>\n",
       "      <th>Holding_Policy_Duration_5.0</th>\n",
       "      <th>Holding_Policy_Duration_6.0</th>\n",
       "      <th>Holding_Policy_Duration_7.0</th>\n",
       "      <th>Holding_Policy_Duration_8.0</th>\n",
       "      <th>Holding_Policy_Duration_9.0</th>\n",
       "    </tr>\n",
       "  </thead>\n",
       "  <tbody>\n",
       "    <tr>\n",
       "      <th>7</th>\n",
       "      <td>75</td>\n",
       "      <td>73</td>\n",
       "      <td>4.0</td>\n",
       "      <td>17</td>\n",
       "      <td>29344.0</td>\n",
       "      <td>1</td>\n",
       "      <td>1</td>\n",
       "      <td>0</td>\n",
       "      <td>0</td>\n",
       "      <td>1</td>\n",
       "      <td>...</td>\n",
       "      <td>0</td>\n",
       "      <td>0</td>\n",
       "      <td>0</td>\n",
       "      <td>0</td>\n",
       "      <td>0</td>\n",
       "      <td>0</td>\n",
       "      <td>0</td>\n",
       "      <td>0</td>\n",
       "      <td>0</td>\n",
       "      <td>1</td>\n",
       "    </tr>\n",
       "    <tr>\n",
       "      <th>9</th>\n",
       "      <td>59</td>\n",
       "      <td>26</td>\n",
       "      <td>4.0</td>\n",
       "      <td>18</td>\n",
       "      <td>21100.8</td>\n",
       "      <td>1</td>\n",
       "      <td>1</td>\n",
       "      <td>0</td>\n",
       "      <td>0</td>\n",
       "      <td>1</td>\n",
       "      <td>...</td>\n",
       "      <td>0</td>\n",
       "      <td>0</td>\n",
       "      <td>0</td>\n",
       "      <td>0</td>\n",
       "      <td>0</td>\n",
       "      <td>0</td>\n",
       "      <td>0</td>\n",
       "      <td>1</td>\n",
       "      <td>0</td>\n",
       "      <td>0</td>\n",
       "    </tr>\n",
       "    <tr>\n",
       "      <th>18</th>\n",
       "      <td>55</td>\n",
       "      <td>55</td>\n",
       "      <td>3.0</td>\n",
       "      <td>21</td>\n",
       "      <td>12580.0</td>\n",
       "      <td>0</td>\n",
       "      <td>1</td>\n",
       "      <td>0</td>\n",
       "      <td>1</td>\n",
       "      <td>0</td>\n",
       "      <td>...</td>\n",
       "      <td>0</td>\n",
       "      <td>0</td>\n",
       "      <td>0</td>\n",
       "      <td>0</td>\n",
       "      <td>0</td>\n",
       "      <td>0</td>\n",
       "      <td>0</td>\n",
       "      <td>0</td>\n",
       "      <td>0</td>\n",
       "      <td>0</td>\n",
       "    </tr>\n",
       "    <tr>\n",
       "      <th>23</th>\n",
       "      <td>22</td>\n",
       "      <td>22</td>\n",
       "      <td>0.0</td>\n",
       "      <td>19</td>\n",
       "      <td>5416.0</td>\n",
       "      <td>0</td>\n",
       "      <td>0</td>\n",
       "      <td>1</td>\n",
       "      <td>1</td>\n",
       "      <td>0</td>\n",
       "      <td>...</td>\n",
       "      <td>0</td>\n",
       "      <td>0</td>\n",
       "      <td>0</td>\n",
       "      <td>0</td>\n",
       "      <td>0</td>\n",
       "      <td>0</td>\n",
       "      <td>0</td>\n",
       "      <td>0</td>\n",
       "      <td>0</td>\n",
       "      <td>0</td>\n",
       "    </tr>\n",
       "    <tr>\n",
       "      <th>28</th>\n",
       "      <td>24</td>\n",
       "      <td>24</td>\n",
       "      <td>0.0</td>\n",
       "      <td>19</td>\n",
       "      <td>7800.0</td>\n",
       "      <td>0</td>\n",
       "      <td>0</td>\n",
       "      <td>1</td>\n",
       "      <td>1</td>\n",
       "      <td>0</td>\n",
       "      <td>...</td>\n",
       "      <td>0</td>\n",
       "      <td>0</td>\n",
       "      <td>0</td>\n",
       "      <td>0</td>\n",
       "      <td>0</td>\n",
       "      <td>0</td>\n",
       "      <td>0</td>\n",
       "      <td>0</td>\n",
       "      <td>0</td>\n",
       "      <td>0</td>\n",
       "    </tr>\n",
       "  </tbody>\n",
       "</table>\n",
       "<p>5 rows × 38 columns</p>\n",
       "</div>"
      ],
      "text/plain": [
       "    Upper_Age  Lower_Age  Holding_Policy_Type  Reco_Policy_Cat  \\\n",
       "7          75         73                  4.0               17   \n",
       "9          59         26                  4.0               18   \n",
       "18         55         55                  3.0               21   \n",
       "23         22         22                  0.0               19   \n",
       "28         24         24                  0.0               19   \n",
       "\n",
       "    Reco_Policy_Premium  Response  Accomodation_Type_Owned  \\\n",
       "7               29344.0         1                        1   \n",
       "9               21100.8         1                        1   \n",
       "18              12580.0         0                        1   \n",
       "23               5416.0         0                        0   \n",
       "28               7800.0         0                        0   \n",
       "\n",
       "    Accomodation_Type_Rented  Reco_Insurance_Type_Individual  \\\n",
       "7                          0                               0   \n",
       "9                          0                               0   \n",
       "18                         0                               1   \n",
       "23                         1                               1   \n",
       "28                         1                               1   \n",
       "\n",
       "    Reco_Insurance_Type_Joint  ...  Holding_Policy_Duration_14+  \\\n",
       "7                           1  ...                            0   \n",
       "9                           1  ...                            0   \n",
       "18                          0  ...                            0   \n",
       "23                          0  ...                            0   \n",
       "28                          0  ...                            0   \n",
       "\n",
       "    Holding_Policy_Duration_14.0  Holding_Policy_Duration_2.0  \\\n",
       "7                              0                            0   \n",
       "9                              0                            0   \n",
       "18                             0                            0   \n",
       "23                             0                            0   \n",
       "28                             0                            0   \n",
       "\n",
       "    Holding_Policy_Duration_3.0  Holding_Policy_Duration_4.0  \\\n",
       "7                             0                            0   \n",
       "9                             0                            0   \n",
       "18                            0                            0   \n",
       "23                            0                            0   \n",
       "28                            0                            0   \n",
       "\n",
       "    Holding_Policy_Duration_5.0  Holding_Policy_Duration_6.0  \\\n",
       "7                             0                            0   \n",
       "9                             0                            0   \n",
       "18                            0                            0   \n",
       "23                            0                            0   \n",
       "28                            0                            0   \n",
       "\n",
       "    Holding_Policy_Duration_7.0  Holding_Policy_Duration_8.0  \\\n",
       "7                             0                            0   \n",
       "9                             1                            0   \n",
       "18                            0                            0   \n",
       "23                            0                            0   \n",
       "28                            0                            0   \n",
       "\n",
       "    Holding_Policy_Duration_9.0  \n",
       "7                             1  \n",
       "9                             0  \n",
       "18                            0  \n",
       "23                            0  \n",
       "28                            0  \n",
       "\n",
       "[5 rows x 38 columns]"
      ]
     },
     "execution_count": 26,
     "metadata": {},
     "output_type": "execute_result"
    }
   ],
   "source": [
    "city_df.head()"
   ]
  },
  {
   "cell_type": "code",
   "execution_count": 27,
   "id": "4525d3ce",
   "metadata": {},
   "outputs": [
    {
     "data": {
      "text/plain": [
       "Index(['Upper_Age', 'Lower_Age', 'Holding_Policy_Type', 'Reco_Policy_Cat',\n",
       "       'Reco_Policy_Premium', 'Response', 'Accomodation_Type_Owned',\n",
       "       'Accomodation_Type_Rented', 'Reco_Insurance_Type_Individual',\n",
       "       'Reco_Insurance_Type_Joint', 'Is_Spouse_No', 'Is_Spouse_Yes',\n",
       "       'Health Indicator_0', 'Health Indicator_1', 'Health Indicator_2',\n",
       "       'Health Indicator_3', 'Health Indicator_4', 'Health Indicator_5',\n",
       "       'Health Indicator_6', 'Health Indicator_7', 'Health Indicator_8',\n",
       "       'Health Indicator_9', 'Holding_Policy_Duration_0',\n",
       "       'Holding_Policy_Duration_1.0', 'Holding_Policy_Duration_10.0',\n",
       "       'Holding_Policy_Duration_11.0', 'Holding_Policy_Duration_12.0',\n",
       "       'Holding_Policy_Duration_13.0', 'Holding_Policy_Duration_14+',\n",
       "       'Holding_Policy_Duration_14.0', 'Holding_Policy_Duration_2.0',\n",
       "       'Holding_Policy_Duration_3.0', 'Holding_Policy_Duration_4.0',\n",
       "       'Holding_Policy_Duration_5.0', 'Holding_Policy_Duration_6.0',\n",
       "       'Holding_Policy_Duration_7.0', 'Holding_Policy_Duration_8.0',\n",
       "       'Holding_Policy_Duration_9.0'],\n",
       "      dtype='object')"
      ]
     },
     "execution_count": 27,
     "metadata": {},
     "output_type": "execute_result"
    }
   ],
   "source": [
    "city_df.columns"
   ]
  },
  {
   "cell_type": "code",
   "execution_count": 28,
   "id": "88a7afe6",
   "metadata": {},
   "outputs": [],
   "source": [
    "city_df.to_csv(\"Resources/city1.csv\", index=False)"
   ]
  },
  {
   "cell_type": "code",
   "execution_count": null,
   "id": "0c9f3abf",
   "metadata": {},
   "outputs": [],
   "source": []
  },
  {
   "cell_type": "code",
   "execution_count": null,
   "id": "b261ea94",
   "metadata": {},
   "outputs": [],
   "source": []
  },
  {
   "cell_type": "code",
   "execution_count": null,
   "id": "4d32b214",
   "metadata": {},
   "outputs": [],
   "source": []
  },
  {
   "cell_type": "code",
   "execution_count": null,
   "id": "6dc409a4",
   "metadata": {},
   "outputs": [],
   "source": []
  },
  {
   "cell_type": "code",
   "execution_count": null,
   "id": "3b4281f5",
   "metadata": {},
   "outputs": [],
   "source": []
  },
  {
   "cell_type": "code",
   "execution_count": null,
   "id": "7288ec73",
   "metadata": {},
   "outputs": [],
   "source": []
  },
  {
   "cell_type": "code",
   "execution_count": null,
   "id": "6b26bda6",
   "metadata": {},
   "outputs": [],
   "source": []
  },
  {
   "cell_type": "code",
   "execution_count": null,
   "id": "343e78af",
   "metadata": {},
   "outputs": [],
   "source": []
  },
  {
   "cell_type": "code",
   "execution_count": null,
   "id": "056f08af",
   "metadata": {},
   "outputs": [],
   "source": []
  }
 ],
 "metadata": {
  "kernelspec": {
   "display_name": "Python [conda env:PythonData] *",
   "language": "python",
   "name": "conda-env-PythonData-py"
  },
  "language_info": {
   "codemirror_mode": {
    "name": "ipython",
    "version": 3
   },
   "file_extension": ".py",
   "mimetype": "text/x-python",
   "name": "python",
   "nbconvert_exporter": "python",
   "pygments_lexer": "ipython3",
   "version": "3.7.7"
  }
 },
 "nbformat": 4,
 "nbformat_minor": 5
}
